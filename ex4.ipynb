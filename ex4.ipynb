{
 "cells": [
  {
   "cell_type": "code",
   "execution_count": 1,
   "id": "8e1c9a0c",
   "metadata": {},
   "outputs": [
    {
     "name": "stdout",
     "output_type": "stream",
     "text": [
      "Original list:\n",
      "[1, 3, 5, 7, 9, 11]\n",
      "Convert the list to a Series:\n",
      "0     1\n",
      "1     3\n",
      "2     5\n",
      "3     7\n",
      "4     9\n",
      "5    11\n",
      "dtype: int64\n"
     ]
    }
   ],
   "source": [
    "import pandas as pd\n",
    "diamonds = pd.read_csv('https://raw.githubusercontent.com/mwaskom/seaborn-data/master/diamonds.csv')\n",
    "l = [1, 3, 5, 7, 9, 11]\n",
    "print(\"Original list:\")\n",
    "print(l)\n",
    "print(\"Convert the list to a Series:\")\n",
    "result = pd.Series(l)\n",
    "print(result)"
   ]
  },
  {
   "cell_type": "code",
   "execution_count": 2,
   "id": "fd2dd5c0",
   "metadata": {},
   "outputs": [
    {
     "name": "stdout",
     "output_type": "stream",
     "text": [
      "DatetimeIndex(['2021-05-01', '2021-05-02', '2021-05-03', '2021-05-04',\n",
      "               '2021-05-05', '2021-05-06', '2021-05-07', '2021-05-08',\n",
      "               '2021-05-09', '2021-05-10', '2021-05-11', '2021-05-12'],\n",
      "              dtype='datetime64[ns]', freq='D')\n"
     ]
    }
   ],
   "source": [
    "date_series = pd.date_range(start = '05-01-2021', end = '05-12-2021')\n",
    "\n",
    "print(date_series)\n",
    " "
   ]
  },
  {
   "cell_type": "code",
   "execution_count": 3,
   "id": "be98c996",
   "metadata": {},
   "outputs": [
    {
     "name": "stdout",
     "output_type": "stream",
     "text": [
      "     name  age         occ\n",
      "0   Vinay   22    engineer\n",
      "1  Kushal   25      doctor\n",
      "2    Aman   24  accountant\n"
     ]
    }
   ],
   "source": [
    "dictionary = {'name': ['Vinay', 'Kushal', 'Aman'],\n",
    "              'age' : [22, 25, 24],\n",
    "              'occ' : ['engineer', 'doctor', 'accountant']}\n",
    "\n",
    "dataframe = pd.DataFrame(dictionary)\n",
    "\n",
    "print(dataframe)"
   ]
  },
  {
   "cell_type": "code",
   "execution_count": 4,
   "id": "c42c46e9",
   "metadata": {},
   "outputs": [
    {
     "name": "stdout",
     "output_type": "stream",
     "text": [
      "   id    name  age\n",
      "0   2  Vishal   22\n",
      "1   1  Kushal   25\n",
      "2   1    Aman   24\n"
     ]
    }
   ],
   "source": [
    "lists = [[2, 'Vishal', 22],\n",
    "         [1, 'Kushal', 25],\n",
    "         [1, 'Aman', 24]]\n",
    "\n",
    "dataframe = pd.DataFrame(lists, columns = ['id', 'name', 'age'])\n",
    "\n",
    "print(dataframe)"
   ]
  },
  {
   "cell_type": "code",
   "execution_count": 8,
   "id": "2ec5f401",
   "metadata": {},
   "outputs": [
    {
     "name": "stdout",
     "output_type": "stream",
     "text": [
      "     id    name  age         occ\n",
      "0     1   Vinay   22    engineer\n",
      "1     2  Kushal   25      doctor\n",
      "2     3    Aman   24  accountant\n"
     ]
    }
   ],
   "source": [
    "dataframe = pd.read_csv('data.csv')\n",
    "\n",
    "print(dataframe)"
   ]
  },
  {
   "cell_type": "code",
   "execution_count": 56,
   "id": "51ecca12",
   "metadata": {},
   "outputs": [
    {
     "name": "stdout",
     "output_type": "stream",
     "text": [
      "Original DataFrame with Custom Indexing:\n",
      "   eid  ename  stipend\n",
      "x    1  Alice     1000\n",
      "y    2    Bob     2000\n",
      "z    3  Cathy     3000\n",
      "a    4  David     4000\n",
      "b    5    Eva     5000\n",
      "\n",
      "DataFrame with Default Indexing:\n",
      "   eid  ename  stipend\n",
      "0    1  Alice     1000\n",
      "1    2    Bob     2000\n",
      "2    3  Cathy     3000\n",
      "3    4  David     4000\n",
      "4    5    Eva     5000\n"
     ]
    }
   ],
   "source": [
    "import pandas as pd\n",
    "data = {'eid': [1, 2, 3, 4, 5],\n",
    "        'ename': ['Alice', 'Bob', 'Cathy', 'David', 'Eva'],\n",
    "        'stipend': [1000, 2000, 3000, 4000, 5000]}\n",
    "index = ['x', 'y', 'z', 'a', 'b']\n",
    "df = pd.DataFrame(data, index=index)\n",
    "print(\"Original DataFrame with Custom Indexing:\")\n",
    "print(df)\n",
    "df = df.reset_index(drop=True)\n",
    "\n",
    "print(\"\\nDataFrame with Default Indexing:\")\n",
    "print(df)"
   ]
  },
  {
   "cell_type": "code",
   "execution_count": 28,
   "id": "de498c05",
   "metadata": {},
   "outputs": [
    {
     "name": "stdout",
     "output_type": "stream",
     "text": [
      "   id    name  age\n",
      "0   2  Vishal   22\n",
      "1   1  Kushal   25\n",
      "2   1    Aman   24\n",
      "\n",
      "   index  id    name  age\n",
      "0      0   2  Vishal   22\n",
      "1      1   1  Kushal   25\n",
      "2      2   1    Aman   24\n"
     ]
    }
   ],
   "source": [
    "print(dataframe)\n",
    "\n",
    "print()\n",
    "\n",
    "dataframe1 = dataframe.reset_index()\n",
    "\n",
    "print(dataframe1) "
   ]
  },
  {
   "cell_type": "code",
   "execution_count": 29,
   "id": "69d312c1",
   "metadata": {},
   "outputs": [
    {
     "name": "stdout",
     "output_type": "stream",
     "text": [
      "   id    name  age\n",
      "0   2  Vishal   22\n",
      "1   1  Kushal   25\n",
      "2   1    Aman   24\n",
      "\n",
      "   id    name  age\n",
      "0   2  Vishal   22\n",
      "1   1  Kushal   25\n"
     ]
    }
   ],
   "source": [
    "print(dataframe)\n",
    "\n",
    "print()\n",
    "\n",
    "o = dataframe.iloc[[0,1], :]\n",
    "\n",
    "print(o)"
   ]
  },
  {
   "cell_type": "code",
   "execution_count": 32,
   "id": "7fbfc847",
   "metadata": {},
   "outputs": [
    {
     "name": "stdout",
     "output_type": "stream",
     "text": [
      "     name         occ  salary\n",
      "0   Vinay    engineer   50000\n",
      "1  Kushal    engineer   30000\n",
      "2    Aman  accountant   20000\n",
      "\n",
      "occ\n",
      "accountant    20000.0\n",
      "engineer      40000.0\n",
      "Name: salary, dtype: float64\n"
     ]
    }
   ],
   "source": [
    "lists = [ 'Vinay', 'engineer',50000],['Kushal' ,'engineer',30000] ,[ 'Aman', 'accountant',20000]\n",
    "dataframe = pd.DataFrame(lists, columns = [ 'name', 'occ','salary'])\n",
    "print(dataframe) \n",
    "\n",
    "print()\n",
    "\n",
    "occ_average_age = dataframe.groupby('occ')['salary'].mean()\n",
    "\n",
    "print(occ_average_age)"
   ]
  },
  {
   "cell_type": "code",
   "execution_count": 44,
   "id": "0ad8ab7d",
   "metadata": {},
   "outputs": [
    {
     "name": "stdout",
     "output_type": "stream",
     "text": [
      "{'Set_of_Numbers': [2, 3, 5, 7, 11, 13, nan, 19, 23, nan]}\n"
     ]
    },
    {
     "data": {
      "text/html": [
       "<div>\n",
       "<style scoped>\n",
       "    .dataframe tbody tr th:only-of-type {\n",
       "        vertical-align: middle;\n",
       "    }\n",
       "\n",
       "    .dataframe tbody tr th {\n",
       "        vertical-align: top;\n",
       "    }\n",
       "\n",
       "    .dataframe thead th {\n",
       "        text-align: right;\n",
       "    }\n",
       "</style>\n",
       "<table border=\"1\" class=\"dataframe\">\n",
       "  <thead>\n",
       "    <tr style=\"text-align: right;\">\n",
       "      <th></th>\n",
       "      <th>Set_of_Numbers</th>\n",
       "    </tr>\n",
       "  </thead>\n",
       "  <tbody>\n",
       "    <tr>\n",
       "      <th>0</th>\n",
       "      <td>2.0</td>\n",
       "    </tr>\n",
       "    <tr>\n",
       "      <th>1</th>\n",
       "      <td>3.0</td>\n",
       "    </tr>\n",
       "    <tr>\n",
       "      <th>2</th>\n",
       "      <td>5.0</td>\n",
       "    </tr>\n",
       "    <tr>\n",
       "      <th>3</th>\n",
       "      <td>7.0</td>\n",
       "    </tr>\n",
       "    <tr>\n",
       "      <th>4</th>\n",
       "      <td>11.0</td>\n",
       "    </tr>\n",
       "    <tr>\n",
       "      <th>5</th>\n",
       "      <td>13.0</td>\n",
       "    </tr>\n",
       "    <tr>\n",
       "      <th>6</th>\n",
       "      <td>0.0</td>\n",
       "    </tr>\n",
       "    <tr>\n",
       "      <th>7</th>\n",
       "      <td>19.0</td>\n",
       "    </tr>\n",
       "    <tr>\n",
       "      <th>8</th>\n",
       "      <td>23.0</td>\n",
       "    </tr>\n",
       "    <tr>\n",
       "      <th>9</th>\n",
       "      <td>0.0</td>\n",
       "    </tr>\n",
       "  </tbody>\n",
       "</table>\n",
       "</div>"
      ],
      "text/plain": [
       "   Set_of_Numbers\n",
       "0             2.0\n",
       "1             3.0\n",
       "2             5.0\n",
       "3             7.0\n",
       "4            11.0\n",
       "5            13.0\n",
       "6             0.0\n",
       "7            19.0\n",
       "8            23.0\n",
       "9             0.0"
      ]
     },
     "execution_count": 44,
     "metadata": {},
     "output_type": "execute_result"
    }
   ],
   "source": [
    "import pandas as pd\n",
    "import numpy as np\n",
    " \n",
    "nums = {'Set_of_Numbers': [2, 3, 5, 7, 11, 13, \n",
    "                           np.nan, 19, 23, np.nan]}\n",
    "print(nums)\n",
    "\n",
    "df = pd.DataFrame(nums, columns =['Set_of_Numbers'])\n",
    " \n",
    "df['Set_of_Numbers'] = df['Set_of_Numbers'].fillna(0)\n",
    " \n",
    "df"
   ]
  },
  {
   "cell_type": "code",
   "execution_count": 54,
   "id": "dab214c1",
   "metadata": {},
   "outputs": [
    {
     "name": "stdout",
     "output_type": "stream",
     "text": [
      "  cname  profit\n",
      "0     A    True\n",
      "1     B   False\n",
      "2     C    True\n",
      "3     D   False\n",
      "4     E   False\n"
     ]
    }
   ],
   "source": [
    "import pandas as pd\n",
    "data = {'cname': ['A', 'B', 'C', 'D', 'E'],\n",
    "        'profit': [100, -200, 300, 0, -400]}\n",
    "df = pd.DataFrame(data)\n",
    "df['profit'] = df['profit'].apply(lambda x: True if x > 0 else False)\n",
    "\n",
    "print(df)"
   ]
  },
  {
   "cell_type": "code",
   "execution_count": 55,
   "id": "1a17b646",
   "metadata": {},
   "outputs": [
    {
     "name": "stdout",
     "output_type": "stream",
     "text": [
      "   eid  ename  stipend designation\n",
      "0    1  Alice     1000         CEO\n",
      "1    2    Bob     2000         COO\n",
      "2    3  Cathy     3000         CTO\n",
      "3    4  David     4000         CFO\n",
      "4    5    Eva     5000         CIO\n"
     ]
    }
   ],
   "source": [
    "df1 = pd.DataFrame({\n",
    "    'eid': [1, 2, 3, 4, 5],\n",
    "    'ename': ['Alice', 'Bob', 'Cathy', 'David', 'Eva'],\n",
    "    'stipend': [1000, 2000, 3000, 4000, 5000]\n",
    "})\n",
    "\n",
    "df2 = pd.DataFrame({\n",
    "    'eid': [1, 2, 3, 4, 5],\n",
    "    'designation': ['CEO', 'COO', 'CTO', 'CFO', 'CIO']\n",
    "})\n",
    "\n",
    "df = pd.merge(df1, df2, on='eid')\n",
    "\n",
    "print(df)"
   ]
  },
  {
   "cell_type": "code",
   "execution_count": null,
   "id": "e9197ac9",
   "metadata": {},
   "outputs": [],
   "source": []
  }
 ],
 "metadata": {
  "kernelspec": {
   "display_name": "Python 3 (ipykernel)",
   "language": "python",
   "name": "python3"
  },
  "language_info": {
   "codemirror_mode": {
    "name": "ipython",
    "version": 3
   },
   "file_extension": ".py",
   "mimetype": "text/x-python",
   "name": "python",
   "nbconvert_exporter": "python",
   "pygments_lexer": "ipython3",
   "version": "3.11.4"
  }
 },
 "nbformat": 4,
 "nbformat_minor": 5
}
