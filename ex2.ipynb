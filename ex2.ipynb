{
 "cells": [
  {
   "cell_type": "code",
   "execution_count": 7,
   "id": "6fdbc7e2",
   "metadata": {},
   "outputs": [
    {
     "name": "stdout",
     "output_type": "stream",
     "text": [
      "Give the number of rows:3\n",
      "Give the number of columns:3\n",
      "Please write the elements of the matrix in a single line and separated by a space: \n",
      "1 2 3 4 5 6 7 8 9\n",
      "[[1 2 3]\n",
      " [4 5 6]\n",
      " [7 8 9]]\n",
      "Give the number of rows:3\n",
      "Give the number of columns:3\n",
      "Please write the elements of the matrix in a single line and separated by a space: \n",
      "1 3 5 7 9 2 4 6 8\n",
      "[[1 3 5]\n",
      " [7 9 2]\n",
      " [4 6 8]]\n"
     ]
    }
   ],
   "source": [
    "import numpy as np  \n",
    "  \n",
    "Rows = int(input(\"Give the number of rows:\"))  \n",
    "Columns = int(input(\"Give the number of columns:\"))  \n",
    "  \n",
    "print(\"Please write the elements of the matrix in a single line and separated by a space: \")  \n",
    "elements = list(map(int, input().split()))  \n",
    "matrixx = np.array(elements).reshape(Rows, Columns)  \n",
    "print(matrixx)  \n",
    "R = int(input(\"Give the number of rows:\"))  \n",
    "C = int(input(\"Give the number of columns:\"))  \n",
    "print(\"Please write the elements of the matrix in a single line and separated by a space: \")  \n",
    "e= list(map(int, input().split()))   \n",
    "m = np.array(e).reshape(R, C)  \n",
    "print(m) "
   ]
  },
  {
   "cell_type": "code",
   "execution_count": 9,
   "id": "b1f54034",
   "metadata": {},
   "outputs": [
    {
     "name": "stdout",
     "output_type": "stream",
     "text": [
      "[[ 27  39  33]\n",
      " [ 63  93  78]\n",
      " [ 99 147 123]]\n"
     ]
    }
   ],
   "source": [
    "d=np.dot(matrixx,m)\n",
    "print(d)"
   ]
  },
  {
   "cell_type": "code",
   "execution_count": 11,
   "id": "c76018a1",
   "metadata": {},
   "outputs": [
    {
     "name": "stdout",
     "output_type": "stream",
     "text": [
      "[[1 4 7]\n",
      " [2 5 8]\n",
      " [3 6 9]]\n",
      "\n",
      "[[1 7 4]\n",
      " [3 9 6]\n",
      " [5 2 8]]\n"
     ]
    }
   ],
   "source": [
    "print(matrixx.transpose())\n",
    "print()\n",
    "print(m.transpose())"
   ]
  },
  {
   "cell_type": "code",
   "execution_count": 13,
   "id": "1575a8e7",
   "metadata": {},
   "outputs": [
    {
     "name": "stdout",
     "output_type": "stream",
     "text": [
      "15\n",
      "18\n"
     ]
    }
   ],
   "source": [
    "print(matrixx.trace())\n",
    "print(m.trace())"
   ]
  },
  {
   "cell_type": "code",
   "execution_count": 15,
   "id": "1cf47426",
   "metadata": {},
   "outputs": [
    {
     "name": "stdout",
     "output_type": "stream",
     "text": [
      "2\n",
      "3\n"
     ]
    }
   ],
   "source": [
    "print(np.linalg.matrix_rank(matrixx))\n",
    "print(np.linalg.matrix_rank(m))"
   ]
  },
  {
   "cell_type": "code",
   "execution_count": 23,
   "id": "bab706b5",
   "metadata": {},
   "outputs": [
    {
     "name": "stdout",
     "output_type": "stream",
     "text": [
      "-9.51619735392994e-16\n",
      "-54.00000000000001\n"
     ]
    }
   ],
   "source": [
    "print(np.linalg.det(matrixx))\n",
    "print(np.linalg.det(m))"
   ]
  },
  {
   "cell_type": "code",
   "execution_count": 30,
   "id": "5c4aa7a0",
   "metadata": {},
   "outputs": [
    {
     "name": "stdout",
     "output_type": "stream",
     "text": [
      "[[ 3.15251974e+15 -6.30503948e+15  3.15251974e+15]\n",
      " [-6.30503948e+15  1.26100790e+16 -6.30503948e+15]\n",
      " [ 3.15251974e+15 -6.30503948e+15  3.15251974e+15]]\n",
      "[[-1.11111111 -0.11111111  0.72222222]\n",
      " [ 0.88888889  0.22222222 -0.61111111]\n",
      " [-0.11111111 -0.11111111  0.22222222]]\n"
     ]
    }
   ],
   "source": [
    "print(np. linalg. inv(matrixx))\n",
    "print(np. linalg. inv(m))"
   ]
  },
  {
   "cell_type": "code",
   "execution_count": 31,
   "id": "ac6a730a",
   "metadata": {},
   "outputs": [
    {
     "name": "stdout",
     "output_type": "stream",
     "text": [
      "(array([ 1.61168440e+01, -1.11684397e+00, -3.38433605e-16]), array([[-0.23197069, -0.78583024,  0.40824829],\n",
      "       [-0.52532209, -0.08675134, -0.81649658],\n",
      "       [-0.8186735 ,  0.61232756,  0.40824829]]))\n",
      "(array([15.4422907 , -0.98661655,  3.54432584]), array([[ 0.36886455,  0.81664483,  0.37173179],\n",
      "       [ 0.61669356, -0.57673733, -0.7003462 ],\n",
      "       [ 0.69543367,  0.02157037,  0.60936908]]))\n"
     ]
    }
   ],
   "source": [
    "print(np.linalg.eig(matrixx))\n",
    "print(np.linalg.eig(m))"
   ]
  },
  {
   "cell_type": "code",
   "execution_count": null,
   "id": "508a5b61",
   "metadata": {},
   "outputs": [],
   "source": []
  }
 ],
 "metadata": {
  "kernelspec": {
   "display_name": "Python 3 (ipykernel)",
   "language": "python",
   "name": "python3"
  },
  "language_info": {
   "codemirror_mode": {
    "name": "ipython",
    "version": 3
   },
   "file_extension": ".py",
   "mimetype": "text/x-python",
   "name": "python",
   "nbconvert_exporter": "python",
   "pygments_lexer": "ipython3",
   "version": "3.11.4"
  }
 },
 "nbformat": 4,
 "nbformat_minor": 5
}
