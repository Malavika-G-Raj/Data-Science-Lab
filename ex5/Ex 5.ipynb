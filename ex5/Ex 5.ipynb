{
 "cells": [
  {
   "cell_type": "code",
   "execution_count": 27,
   "id": "6e113ac2",
   "metadata": {},
   "outputs": [
    {
     "name": "stdout",
     "output_type": "stream",
     "text": [
      "Enter Sepal Length:3\n",
      "Enter sepal width5\n",
      "Enter petal length4\n",
      "Enter petal width2\n",
      "['versicolor']\n"
     ]
    }
   ],
   "source": [
    "from sklearn.datasets import load_iris\n",
    "from sklearn.model_selection import train_test_split\n",
    "from sklearn.neighbors import KNeighborsClassifier\n",
    "from sklearn import metrics\n",
    "\n",
    "s_l=int(input(\"Enter Sepal Length:\"))\n",
    "s_w=int(input(\"Enter sepal width\"))\n",
    "p_l=int(input(\"Enter petal length\"))\n",
    "p_w=int(input(\"Enter petal width\"))\n",
    "iris = load_iris()\n",
    "x = iris.data\n",
    "y = iris.target\n",
    "x_train,x_test,y_train,y_test = train_test_split(x,y,test_size=0.3,random_state=1)\n",
    "c_knn = KNeighborsClassifier(n_neighbors=3)\n",
    "c_knn.fit(x_train,y_train)\n",
    "y_pred = c_knn.predict(x_test)\n",
    "# print(\"Accuracy : \",metrics.accuracy_score(y_test,y_pred))\n",
    "sample = [[s_l,s_w,p_l,p_w]]\n",
    "pred = c_knn.predict(sample)\n",
    "pred_v = [iris.target_names[p] for p in pred]\n",
    "print(pred_v)\n"
   ]
  },
  {
   "cell_type": "code",
   "execution_count": null,
   "id": "1996dd6d",
   "metadata": {},
   "outputs": [],
   "source": [
    "import pandas as pd\n",
    "from sklearn.neighbors import KNeighborsClassifier\n",
    "p=int(input(\"Enter new academic mark\"))\n",
    "q=int(input(\"Enter new other activities mark\"))\n",
    "data=pd.read_csv(\"data.csv\")\n",
    "x_values=data.iloc[:,[0,1]]\n",
    "y=data.iloc[:,[2]]\n",
    "y_values=y.values.reshape(-1,)\n",
    "clf=KNeighborsClassifier(n_neighbors=3,metric=\"euclidean\")\n",
    "clf.fit(x_values.values,y_values)\n",
    "new_data=[[p,q]]\n",
    "predicted_class=clf.predict(new_data)\n",
    "print(predicted_class)\n",
    "\n"
   ]
  },
  {
   "cell_type": "code",
   "execution_count": null,
   "id": "b1709d93",
   "metadata": {},
   "outputs": [],
   "source": []
  },
  {
   "cell_type": "code",
   "execution_count": null,
   "id": "fc0d9e4c",
   "metadata": {},
   "outputs": [],
   "source": []
  },
  {
   "cell_type": "code",
   "execution_count": null,
   "id": "c59f7c08",
   "metadata": {},
   "outputs": [],
   "source": []
  },
  {
   "cell_type": "code",
   "execution_count": null,
   "id": "d5f9b235",
   "metadata": {},
   "outputs": [],
   "source": []
  }
 ],
 "metadata": {
  "kernelspec": {
   "display_name": "Python 3 (ipykernel)",
   "language": "python",
   "name": "python3"
  },
  "language_info": {
   "codemirror_mode": {
    "name": "ipython",
    "version": 3
   },
   "file_extension": ".py",
   "mimetype": "text/x-python",
   "name": "python",
   "nbconvert_exporter": "python",
   "pygments_lexer": "ipython3",
   "version": "3.11.4"
  }
 },
 "nbformat": 4,
 "nbformat_minor": 5
}
