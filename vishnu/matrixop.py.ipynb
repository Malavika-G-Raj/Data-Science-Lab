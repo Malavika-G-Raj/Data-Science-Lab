{
 "cells": [
  {
   "cell_type": "code",
   "execution_count": 1,
   "id": "f930374d",
   "metadata": {},
   "outputs": [],
   "source": [
    "import numpy as np"
   ]
  },
  {
   "cell_type": "code",
   "execution_count": 11,
   "id": "3f57c8d8",
   "metadata": {},
   "outputs": [
    {
     "name": "stdout",
     "output_type": "stream",
     "text": [
      "Enter no of rows2\n",
      "Enter no of Columns2\n",
      "1 2 3 4\n",
      "4 5 6 7 \n"
     ]
    }
   ],
   "source": [
    "r=int(input(\"Enter no of rows\"))\n",
    "c=int(input(\"Enter no of Columns\"))\n",
    "l=list(map(int,input().split()))\n",
    "a=np.matrix(l).reshape(r,c)\n",
    "l1=list(map(int,input().split()))\n",
    "b=np.matrix(l1).reshape(r,c)\n",
    "# print(a)\n"
   ]
  },
  {
   "cell_type": "code",
   "execution_count": 13,
   "id": "e09a4667",
   "metadata": {
    "scrolled": true
   },
   "outputs": [
    {
     "name": "stdout",
     "output_type": "stream",
     "text": [
      "The Dot Product of Matrix is:   [[16 19]\n",
      " [36 43]]\n",
      "The Transpose of Matrix  [[1 2]\n",
      " [3 4]]  is:  [[1 3]\n",
      " [2 4]]\n",
      "The Transpose of Matrix  [[4 5]\n",
      " [6 7]] is:  [[4 6]\n",
      " [5 7]]\n"
     ]
    }
   ],
   "source": [
    "print(\"The Dot Product of Matrix is:  \",np.dot(a,b))\n",
    "print(\"The Transpose of Matrix \",a,\" is: \",np.matrix(a).T)\n",
    "print(\"The Transpose of Matrix \",b,\"is: \",np.matrix(b).T)"
   ]
  },
  {
   "cell_type": "code",
   "execution_count": 14,
   "id": "34308f72",
   "metadata": {},
   "outputs": [
    {
     "name": "stdout",
     "output_type": "stream",
     "text": [
      "The Transpose of Matrix  [[1 2]\n",
      " [3 4]] is:  [[5]]\n",
      "The Transpose of Matrix  [[4 5]\n",
      " [6 7]] is:  [[11]]\n"
     ]
    }
   ],
   "source": [
    "print(\"The Trace of Matrix \",a,\"is: \",a.trace())\n",
    "print(\"The Trace of Matrix \",b,\"is: \",b.trace())"
   ]
  },
  {
   "cell_type": "code",
   "execution_count": 16,
   "id": "f888ec28",
   "metadata": {},
   "outputs": [
    {
     "name": "stdout",
     "output_type": "stream",
     "text": [
      "The Rank of Matrix  [[1 2]\n",
      " [3 4]] is:  2\n",
      "The Rank of Matrix  [[4 5]\n",
      " [6 7]] is:  2\n"
     ]
    }
   ],
   "source": [
    "print(\"The Rank of Matrix \",a,\"is: \",np.linalg.matrix_rank(a))\n",
    "print(\"The Rank of Matrix \",b,\"is: \",np.linalg.matrix_rank(b))"
   ]
  },
  {
   "cell_type": "code",
   "execution_count": 17,
   "id": "05bf556a",
   "metadata": {},
   "outputs": [
    {
     "name": "stdout",
     "output_type": "stream",
     "text": [
      "The Rank of Matrix  [[1 2]\n",
      " [3 4]] is:  -2.0000000000000004\n",
      "The Rank of Matrix  [[1 2]\n",
      " [3 4]] is:  -2.0000000000000004\n"
     ]
    }
   ],
   "source": [
    "print(\"The Determinant of Matrix \",a,\"is: \",np.linalg.det(a))\n",
    "print(\"The Determinant of Matrix \",a,\"is: \",np.linalg.det(a))"
   ]
  },
  {
   "cell_type": "code",
   "execution_count": 18,
   "id": "844768b0",
   "metadata": {},
   "outputs": [
    {
     "name": "stdout",
     "output_type": "stream",
     "text": [
      "The Inverse of Matrix  [[1 2]\n",
      " [3 4]] is:  [[-2.   1. ]\n",
      " [ 1.5 -0.5]]\n",
      "The Inverse of Matrix  [[4 5]\n",
      " [6 7]] is:  [[-3.5  2.5]\n",
      " [ 3.  -2. ]]\n"
     ]
    }
   ],
   "source": [
    "print(\"The Inverse of Matrix \",a,\"is: \",np.linalg.inv(a))\n",
    "print(\"The Inverse of Matrix \",b,\"is: \",np.linalg.inv(b))"
   ]
  },
  {
   "cell_type": "code",
   "execution_count": 19,
   "id": "471059ea",
   "metadata": {},
   "outputs": [
    {
     "name": "stdout",
     "output_type": "stream",
     "text": [
      "The Eigen value and vector of Matrix  [[1 2]\n",
      " [3 4]] is:  (array([-0.37228132,  5.37228132]), matrix([[-0.82456484, -0.41597356],\n",
      "        [ 0.56576746, -0.90937671]]))\n",
      "The Eigen value and vector of Matrix  [[4 5]\n",
      " [6 7]] is:  (array([-0.17890835, 11.17890835]), matrix([[-0.76729658, -0.57152478],\n",
      "        [ 0.64129241, -0.82058481]]))\n"
     ]
    }
   ],
   "source": [
    "print(\"The Eigen value and vector of Matrix \",a,\"is: \",np.linalg.eig(a))\n",
    "print(\"The Eigen value and vector of Matrix \",b,\"is: \",np.linalg.eig(b))"
   ]
  },
  {
   "cell_type": "code",
   "execution_count": null,
   "id": "e33a6779",
   "metadata": {},
   "outputs": [],
   "source": []
  }
 ],
 "metadata": {
  "kernelspec": {
   "display_name": "Python 3 (ipykernel)",
   "language": "python",
   "name": "python3"
  },
  "language_info": {
   "codemirror_mode": {
    "name": "ipython",
    "version": 3
   },
   "file_extension": ".py",
   "mimetype": "text/x-python",
   "name": "python",
   "nbconvert_exporter": "python",
   "pygments_lexer": "ipython3",
   "version": "3.11.4"
  }
 },
 "nbformat": 4,
 "nbformat_minor": 5
}
