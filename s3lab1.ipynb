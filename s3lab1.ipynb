{
 "cells": [
  {
   "cell_type": "code",
   "execution_count": 11,
   "id": "bf3d3f90",
   "metadata": {},
   "outputs": [
    {
     "name": "stdout",
     "output_type": "stream",
     "text": [
      "[ 2  3  6  7 10 12]\n",
      "[ 1  4  5  8  9 12]\n",
      "[False  True False  True False False]\n",
      "[False  True False  True False  True]\n",
      "[ True False  True False  True False]\n",
      "[ True False  True False  True  True]\n"
     ]
    }
   ],
   "source": [
    "import numpy as np\n",
    "x=np.array([2,3,6,7,10,12])\n",
    "y=np.array([1,4,5,8,9,12])\n",
    "print(x)\n",
    "print(y)\n",
    "a=np.greater(y,x)\n",
    "b=np.greater_equal(y,x)\n",
    "c=np.less(y,x)\n",
    "d=np.less_equal(y,x)\n",
    "print(a)\n",
    "print(b)\n",
    "print(c)\n",
    "print(d)"
   ]
  },
  {
   "cell_type": "code",
   "execution_count": null,
   "id": "895fd797",
   "metadata": {},
   "outputs": [],
   "source": []
  }
 ],
 "metadata": {
  "kernelspec": {
   "display_name": "Python 3 (ipykernel)",
   "language": "python",
   "name": "python3"
  },
  "language_info": {
   "codemirror_mode": {
    "name": "ipython",
    "version": 3
   },
   "file_extension": ".py",
   "mimetype": "text/x-python",
   "name": "python",
   "nbconvert_exporter": "python",
   "pygments_lexer": "ipython3",
   "version": "3.11.4"
  }
 },
 "nbformat": 4,
 "nbformat_minor": 5
}
