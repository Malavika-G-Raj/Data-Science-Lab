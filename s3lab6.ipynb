{
 "cells": [
  {
   "cell_type": "code",
   "execution_count": 11,
   "id": "cd900a47",
   "metadata": {},
   "outputs": [
    {
     "name": "stdout",
     "output_type": "stream",
     "text": [
      "[[10 11 12]\n",
      " [13 14 15]\n",
      " [16 17 18]]\n",
      "Total sum 126\n",
      "row sum [33 42 51]\n",
      "col sum [39 42 45]\n"
     ]
    }
   ],
   "source": [
    "import numpy as np\n",
    "x=np.arange(10,19).reshape(3,3)\n",
    "print(x)\n",
    "a=np.sum(x)\n",
    "print(\"Total sum\",a)\n",
    "b=np.sum(x,axis=1)\n",
    "print(\"row sum\",b)\n",
    "c=np.sum(x,axis=0)\n",
    "print(\"col sum\",c)\n"
   ]
  },
  {
   "cell_type": "code",
   "execution_count": null,
   "id": "7e41cb80",
   "metadata": {},
   "outputs": [],
   "source": []
  },
  {
   "cell_type": "code",
   "execution_count": null,
   "id": "bc8da595",
   "metadata": {},
   "outputs": [],
   "source": []
  }
 ],
 "metadata": {
  "kernelspec": {
   "display_name": "Python 3 (ipykernel)",
   "language": "python",
   "name": "python3"
  },
  "language_info": {
   "codemirror_mode": {
    "name": "ipython",
    "version": 3
   },
   "file_extension": ".py",
   "mimetype": "text/x-python",
   "name": "python",
   "nbconvert_exporter": "python",
   "pygments_lexer": "ipython3",
   "version": "3.11.4"
  }
 },
 "nbformat": 4,
 "nbformat_minor": 5
}
