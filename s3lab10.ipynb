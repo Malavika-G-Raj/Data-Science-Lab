{
 "cells": [
  {
   "cell_type": "code",
   "execution_count": 7,
   "id": "a7100352",
   "metadata": {},
   "outputs": [
    {
     "name": "stdout",
     "output_type": "stream",
     "text": [
      "[[1 2 3]\n",
      " [4 5 6]\n",
      " [7 8 9]]\n",
      "\n",
      "[[11 12 13]\n",
      " [14 15 16]\n",
      " [17 18 19]]\n",
      "\n",
      "[[ 11  24  39]\n",
      " [ 56  75  96]\n",
      " [119 144 171]]\n"
     ]
    }
   ],
   "source": [
    "import numpy as np\n",
    "x=np.arange(1,10).reshape(3,3)\n",
    "y=np.arange(11,20).reshape(3,3)\n",
    "print(x)\n",
    "print()\n",
    "print(y)\n",
    "print()\n",
    "print(np.multiply(x,y))"
   ]
  },
  {
   "cell_type": "code",
   "execution_count": null,
   "id": "ce1ce3a4",
   "metadata": {},
   "outputs": [],
   "source": []
  }
 ],
 "metadata": {
  "kernelspec": {
   "display_name": "Python 3 (ipykernel)",
   "language": "python",
   "name": "python3"
  },
  "language_info": {
   "codemirror_mode": {
    "name": "ipython",
    "version": 3
   },
   "file_extension": ".py",
   "mimetype": "text/x-python",
   "name": "python",
   "nbconvert_exporter": "python",
   "pygments_lexer": "ipython3",
   "version": "3.11.4"
  }
 },
 "nbformat": 4,
 "nbformat_minor": 5
}
